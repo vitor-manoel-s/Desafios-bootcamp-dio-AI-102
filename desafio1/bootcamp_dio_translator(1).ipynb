{
 "cells": [
  {
   "cell_type": "code",
   "execution_count": 2,
   "metadata": {
    "colab": {
     "base_uri": "https://localhost:8080/"
    },
    "id": "B20U44V6EgrS",
    "outputId": "bb0c992f-2901-4094-9424-247749593c18"
   },
   "outputs": [
    {
     "name": "stdout",
     "output_type": "stream",
     "text": [
      "Requirement already satisfied: requests in /usr/local/lib/python3.10/dist-packages (2.32.3)\n",
      "Collecting python-docx\n",
      "  Downloading python_docx-1.1.2-py3-none-any.whl.metadata (2.0 kB)\n",
      "Requirement already satisfied: charset-normalizer<4,>=2 in /usr/local/lib/python3.10/dist-packages (from requests) (3.4.0)\n",
      "Requirement already satisfied: idna<4,>=2.5 in /usr/local/lib/python3.10/dist-packages (from requests) (3.10)\n",
      "Requirement already satisfied: urllib3<3,>=1.21.1 in /usr/local/lib/python3.10/dist-packages (from requests) (2.2.3)\n",
      "Requirement already satisfied: certifi>=2017.4.17 in /usr/local/lib/python3.10/dist-packages (from requests) (2024.8.30)\n",
      "Requirement already satisfied: lxml>=3.1.0 in /usr/local/lib/python3.10/dist-packages (from python-docx) (5.3.0)\n",
      "Requirement already satisfied: typing-extensions>=4.9.0 in /usr/local/lib/python3.10/dist-packages (from python-docx) (4.12.2)\n",
      "Downloading python_docx-1.1.2-py3-none-any.whl (244 kB)\n",
      "\u001b[2K   \u001b[90m━━━━━━━━━━━━━━━━━━━━━━━━━━━━━━━━━━━━━━━━\u001b[0m \u001b[32m244.3/244.3 kB\u001b[0m \u001b[31m3.6 MB/s\u001b[0m eta \u001b[36m0:00:00\u001b[0m\n",
      "\u001b[?25hInstalling collected packages: python-docx\n",
      "Successfully installed python-docx-1.1.2\n"
     ]
    }
   ],
   "source": [
    "!pip install requests python-docx"
   ]
  },
  {
   "cell_type": "code",
   "execution_count": null,
   "metadata": {
    "id": "mJ8hODyZEo6f"
   },
   "outputs": [],
   "source": [
    "import requests\n",
    "from docx import Document\n",
    "import os\n",
    "\n",
    "\n",
    "subscription_key = \"your_subscription_key\"\n",
    "endpoint = 'https://api.cognitive.microsofttranslator.com/'\n",
    "location = \"eastus2\"\n",
    "language_destination = 'pt-br'\n",
    "\n",
    "def translator_text(text, target_language):\n",
    "  path = '/translate'\n",
    "  constructed_url = endpoint + path\n",
    "  headers = {\n",
    "      'Ocp-Apim-Subscription-Key': subscription_key,\n",
    "      'Ocp-Apim-Subscription-Region': location,\n",
    "      'Content-type': 'application/json',\n",
    "      'X-ClientTraceId': str(os.urandom(16))\n",
    "  }\n",
    "\n",
    "  body = [{\n",
    "      'text': text\n",
    "  }]\n",
    "\n",
    "  params =  {\n",
    "      'api-version': '3.0',\n",
    "      'from': 'en',\n",
    "      'to': target_language\n",
    "  }\n",
    "\n",
    "  request = requests.post(constructed_url, params=params, headers=headers, json=body)\n",
    "  response = request.json()\n",
    "  return response[0][\"translations\"][0][\"text\"]\n",
    "\n",
    "\n",
    "\n"
   ]
  },
  {
   "cell_type": "code",
   "execution_count": 4,
   "metadata": {
    "colab": {
     "base_uri": "https://localhost:8080/",
     "height": 35
    },
    "id": "ITy0lRf3H1Bl",
    "outputId": "68ca471d-0003-4d39-8e80-487c68ebfd64"
   },
   "outputs": [
    {
     "data": {
      "application/vnd.google.colaboratory.intrinsic+json": {
       "type": "string"
      },
      "text/plain": [
       "'Toda vez que eu me olho no espelho'"
      ]
     },
     "execution_count": 4,
     "metadata": {},
     "output_type": "execute_result"
    }
   ],
   "source": [
    "translator_text(\"Every time that I look in the mirror\", language_destination)"
   ]
  },
  {
   "cell_type": "code",
   "execution_count": 5,
   "metadata": {
    "id": "gdXARQKhIV3b"
   },
   "outputs": [],
   "source": [
    "def translate_document(path):\n",
    "  document = Document(path)\n",
    "  full_text = []\n",
    "  for paragraph in document.paragraphs:\n",
    "    translated_text = translator_text(paragraph.text, language_destination)\n",
    "    full_text.append(translated_text)\n",
    "\n",
    "  translated_doc = Document()\n",
    "  for line in full_text:\n",
    "    print(line)\n",
    "    translated_doc.add_paragraph(line)\n",
    "\n",
    "  path_translated = path.replace(\".docx\", f\"_{language_destination}.docx\")\n",
    "  translated_doc.save(path_translated)\n",
    "\n",
    "  return path_translated"
   ]
  },
  {
   "cell_type": "code",
   "execution_count": 7,
   "metadata": {
    "colab": {
     "base_uri": "https://localhost:8080/",
     "height": 714
    },
    "id": "_lryNt2GJ_Ea",
    "outputId": "1e29f4ab-8fec-447b-811e-a1651a6d22f5"
   },
   "outputs": [
    {
     "name": "stdout",
     "output_type": "stream",
     "text": [
      "Toda vez que eu me olho no espelho\n",
      "Todas essas linhas no meu rosto ficando mais claras\n",
      "O passado se foi\n",
      "Passou como o crepúsculo ao amanhecer\n",
      "Não é assim?\n",
      "Todo mundo tem as dívidas da vida para pagar, sim\n",
      "Eu sei que ninguém sabe\n",
      "De onde vem e para onde vai\n",
      "Eu sei que é pecado de todo mundo\n",
      "Você tem que perder para saber como ganhar\n",
      "Metade da minha vida está nas páginas escritas dos livros\n",
      "Viva e aprenda com os tolos e com os sábios\n",
      "Você sabe que é verdade, oh\n",
      "Todas as coisas voltam para você\n",
      "Cante comigo, cante para o ano\n",
      "Cante para o riso e cante para a lágrima\n",
      "Cante comigo, se for só por hoje\n",
      "Talvez amanhã o bom Deus te leve embora\n",
      "Sim, cante comigo, cante para o ano\n",
      "Cante para o riso e cante para a lágrima\n",
      "Cante comigo, se for só por hoje\n",
      "Talvez amanhã o bom Deus te leve embora\n",
      "Sonhe, sonhe, sonhe\n",
      "Sonhe até que o sonho se torne realidade\n",
      "Sonhe, sonhe, sonhe\n",
      "Sonhe até que seu sonho se torne realidade\n",
      "Sonhe, sonhe, sonhe\n",
      "Sonhe, sonhe, sonhe\n",
      "Sonhe, oh\n",
      "Cante comigo, cante para o ano\n",
      "Cante para o riso e cante para a lágrima\n",
      "Cante comigo, se for só por hoje\n",
      "Talvez amanhã o bom Deus te leve embora\n",
      "Cante comigo, cante para o ano\n",
      "Cante para o riso e cante para a lágrima\n",
      "Cante comigo, se for só por hoje\n",
      "Talvez amanhã o bom Deus te leve embora\n",
      "\n"
     ]
    },
    {
     "data": {
      "application/vnd.google.colaboratory.intrinsic+json": {
       "type": "string"
      },
      "text/plain": [
       "'/content/letra_dream_on_pt-br.docx'"
      ]
     },
     "execution_count": 7,
     "metadata": {},
     "output_type": "execute_result"
    }
   ],
   "source": [
    "input_file = \"/content/letra_dream_on.docx\"\n",
    "translate_document(input_file)"
   ]
  }
 ],
 "metadata": {
  "colab": {
   "provenance": []
  },
  "kernelspec": {
   "display_name": "Python 3",
   "name": "python3"
  },
  "language_info": {
   "name": "python"
  }
 },
 "nbformat": 4,
 "nbformat_minor": 0
}
